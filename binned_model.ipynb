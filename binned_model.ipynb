{
 "cells": [
  {
   "cell_type": "code",
   "execution_count": 67,
   "metadata": {},
   "outputs": [],
   "source": [
    "# import dependencies \n",
    "from sklearn.model_selection import train_test_split\n",
    "from sklearn.preprocessing import StandardScaler\n",
    "import pandas as pd\n",
    "# import tensorflow as tf\n",
    "import plotly as plt"
   ]
  },
  {
   "cell_type": "code",
   "execution_count": 68,
   "metadata": {},
   "outputs": [
    {
     "data": {
      "text/html": [
       "<div>\n",
       "<style scoped>\n",
       "    .dataframe tbody tr th:only-of-type {\n",
       "        vertical-align: middle;\n",
       "    }\n",
       "\n",
       "    .dataframe tbody tr th {\n",
       "        vertical-align: top;\n",
       "    }\n",
       "\n",
       "    .dataframe thead th {\n",
       "        text-align: right;\n",
       "    }\n",
       "</style>\n",
       "<table border=\"1\" class=\"dataframe\">\n",
       "  <thead>\n",
       "    <tr style=\"text-align: right;\">\n",
       "      <th></th>\n",
       "      <th>diagnosis_category</th>\n",
       "      <th>diagnosis_sub_category</th>\n",
       "      <th>treatment_category</th>\n",
       "      <th>treatment_sub_category</th>\n",
       "      <th>determination</th>\n",
       "      <th>type</th>\n",
       "      <th>age_range</th>\n",
       "      <th>patient_gender</th>\n",
       "    </tr>\n",
       "  </thead>\n",
       "  <tbody>\n",
       "    <tr>\n",
       "      <th>0</th>\n",
       "      <td>Infectious</td>\n",
       "      <td>Hepatitis</td>\n",
       "      <td>Pharmacy/Prescription Drugs</td>\n",
       "      <td>Anti-virals</td>\n",
       "      <td>Overturned Decision of Health Plan</td>\n",
       "      <td>Medical Necessity</td>\n",
       "      <td>41-50</td>\n",
       "      <td>Male</td>\n",
       "    </tr>\n",
       "    <tr>\n",
       "      <th>1</th>\n",
       "      <td>Mental</td>\n",
       "      <td>Eating Disorder</td>\n",
       "      <td>Mental Health Treatment</td>\n",
       "      <td>Residential Treatment Center - Admission</td>\n",
       "      <td>Upheld Decision of Health Plan</td>\n",
       "      <td>Medical Necessity</td>\n",
       "      <td>21-30</td>\n",
       "      <td>Female</td>\n",
       "    </tr>\n",
       "    <tr>\n",
       "      <th>2</th>\n",
       "      <td>Autism Spectrum</td>\n",
       "      <td>Autism-PDD-NOS</td>\n",
       "      <td>Autism Related Treatment</td>\n",
       "      <td>Speech Therapy</td>\n",
       "      <td>Upheld Decision of Health Plan</td>\n",
       "      <td>Medical Necessity</td>\n",
       "      <td>0-10</td>\n",
       "      <td>Female</td>\n",
       "    </tr>\n",
       "    <tr>\n",
       "      <th>3</th>\n",
       "      <td>Prevention/Good Health</td>\n",
       "      <td>NaN</td>\n",
       "      <td>Diagnostic Imaging, Screening and Testing</td>\n",
       "      <td>Mammography</td>\n",
       "      <td>Overturned Decision of Health Plan</td>\n",
       "      <td>Experimental/Investigational</td>\n",
       "      <td>65+</td>\n",
       "      <td>Female</td>\n",
       "    </tr>\n",
       "    <tr>\n",
       "      <th>4</th>\n",
       "      <td>Prevention/Good Health</td>\n",
       "      <td>NaN</td>\n",
       "      <td>Diagnostic Imaging, Screening and Testing</td>\n",
       "      <td>Lab Work</td>\n",
       "      <td>Upheld Decision of Health Plan</td>\n",
       "      <td>Experimental/Investigational</td>\n",
       "      <td>21-30</td>\n",
       "      <td>Male</td>\n",
       "    </tr>\n",
       "  </tbody>\n",
       "</table>\n",
       "</div>"
      ],
      "text/plain": [
       "       diagnosis_category diagnosis_sub_category  \\\n",
       "0              Infectious              Hepatitis   \n",
       "1                  Mental        Eating Disorder   \n",
       "2         Autism Spectrum         Autism-PDD-NOS   \n",
       "3  Prevention/Good Health                    NaN   \n",
       "4  Prevention/Good Health                    NaN   \n",
       "\n",
       "                          treatment_category  \\\n",
       "0                Pharmacy/Prescription Drugs   \n",
       "1                    Mental Health Treatment   \n",
       "2                   Autism Related Treatment   \n",
       "3  Diagnostic Imaging, Screening and Testing   \n",
       "4  Diagnostic Imaging, Screening and Testing   \n",
       "\n",
       "                     treatment_sub_category  \\\n",
       "0                               Anti-virals   \n",
       "1  Residential Treatment Center - Admission   \n",
       "2                            Speech Therapy   \n",
       "3                               Mammography   \n",
       "4                                  Lab Work   \n",
       "\n",
       "                        determination                          type age_range  \\\n",
       "0  Overturned Decision of Health Plan             Medical Necessity     41-50   \n",
       "1      Upheld Decision of Health Plan             Medical Necessity     21-30   \n",
       "2      Upheld Decision of Health Plan             Medical Necessity      0-10   \n",
       "3  Overturned Decision of Health Plan  Experimental/Investigational       65+   \n",
       "4      Upheld Decision of Health Plan  Experimental/Investigational     21-30   \n",
       "\n",
       "  patient_gender  \n",
       "0           Male  \n",
       "1         Female  \n",
       "2         Female  \n",
       "3         Female  \n",
       "4           Male  "
      ]
     },
     "execution_count": 68,
     "metadata": {},
     "output_type": "execute_result"
    }
   ],
   "source": [
    "#  read in the csv\n",
    "health_df = pd.read_csv('Resources/urgentcare_clean.csv')\n",
    "health_df.head()"
   ]
  },
  {
   "cell_type": "code",
   "execution_count": 69,
   "metadata": {},
   "outputs": [
    {
     "name": "stdout",
     "output_type": "stream",
     "text": [
      "<class 'pandas.core.frame.DataFrame'>\n",
      "RangeIndex: 1307 entries, 0 to 1306\n",
      "Data columns (total 8 columns):\n",
      " #   Column                  Non-Null Count  Dtype \n",
      "---  ------                  --------------  ----- \n",
      " 0   diagnosis_category      1307 non-null   object\n",
      " 1   diagnosis_sub_category  1171 non-null   object\n",
      " 2   treatment_category      1306 non-null   object\n",
      " 3   treatment_sub_category  1298 non-null   object\n",
      " 4   determination           1307 non-null   object\n",
      " 5   type                    1307 non-null   object\n",
      " 6   age_range               1307 non-null   object\n",
      " 7   patient_gender          1307 non-null   object\n",
      "dtypes: object(8)\n",
      "memory usage: 81.8+ KB\n"
     ]
    }
   ],
   "source": [
    "# Determine data types and parameters\n",
    "health_df.info()"
   ]
  },
  {
   "cell_type": "code",
   "execution_count": 70,
   "metadata": {},
   "outputs": [
    {
     "data": {
      "text/plain": [
       "diagnosis_category         27\n",
       "diagnosis_sub_category    145\n",
       "treatment_category         30\n",
       "treatment_sub_category    120\n",
       "determination               2\n",
       "type                        3\n",
       "age_range                   7\n",
       "patient_gender              2\n",
       "dtype: int64"
      ]
     },
     "execution_count": 70,
     "metadata": {},
     "output_type": "execute_result"
    }
   ],
   "source": [
    "# Determine the number of unique values in each column.\n",
    "data_cat = health_df.dtypes[health_df.dtypes == \"object\"].index.tolist()\n",
    "health_df[data_cat].nunique()\n",
    "\n",
    "# We'll need to bin the 'diagnosis_category, diagnosis_sub_category, treatment_category, and treatment_sub_category' \n",
    "# with 'other' categories "
   ]
  },
  {
   "cell_type": "code",
   "execution_count": 71,
   "metadata": {},
   "outputs": [
    {
     "data": {
      "text/plain": [
       "Overturned Decision of Health Plan    724\n",
       "Upheld Decision of Health Plan        583\n",
       "Name: determination, dtype: int64"
      ]
     },
     "execution_count": 71,
     "metadata": {},
     "output_type": "execute_result"
    }
   ],
   "source": [
    "# column 'determination' is the target data, meaning we will need to separate this from our data set and use \n",
    "# supervised learning to train our model. \n",
    "health_df['determination'].value_counts()"
   ]
  },
  {
   "attachments": {},
   "cell_type": "markdown",
   "metadata": {},
   "source": [
    "# Fit all bins into 10 categories each "
   ]
  },
  {
   "attachments": {},
   "cell_type": "markdown",
   "metadata": {},
   "source": [
    "# Fit \"diagnosis_category\" bin\n"
   ]
  },
  {
   "cell_type": "code",
   "execution_count": 72,
   "metadata": {},
   "outputs": [
    {
     "data": {
      "text/plain": [
       "Infectious                               244\n",
       "Orthopedic/ Musculoskeletal              187\n",
       "Mental                                   154\n",
       "OB-Gyn/ Pregnancy                        108\n",
       "Prevention/Good Health                   105\n",
       "Cancer                                    86\n",
       "Central Nervous System/ Neuromuscular     70\n",
       "Cardiac/Circulatory                       57\n",
       "Digestive System/ Gastrointestinal        48\n",
       "Endocrine/ Metabolic                      36\n",
       "Autism Spectrum                           31\n",
       "Skin                                      28\n",
       "Respiratory System                        23\n",
       "Immunologic                               21\n",
       "Genitourinary/ Kidney                     15\n",
       "Pediatrics                                14\n",
       "Chronic Pain                              12\n",
       "Morbid Obesity                            11\n",
       "Blood Related                              9\n",
       "Foot                                       8\n",
       "Ears, Nose, Throat                         8\n",
       "Not Applicable                             8\n",
       "Genetic                                    7\n",
       "Vision                                     5\n",
       "Trauma/Injuries                            5\n",
       "Dental                                     5\n",
       "Post Surgical Complication                 2\n",
       "Name: diagnosis_category, dtype: int64"
      ]
     },
     "execution_count": 72,
     "metadata": {},
     "output_type": "execute_result"
    }
   ],
   "source": [
    "# To clean all bins, we will first start with the diagnosis_category\n",
    "diagnoses = health_df['diagnosis_category'].value_counts()\n",
    "diagnoses"
   ]
  },
  {
   "cell_type": "code",
   "execution_count": 73,
   "metadata": {},
   "outputs": [
    {
     "data": {
      "text/plain": [
       "Endocrine/ Metabolic          36\n",
       "Autism Spectrum               31\n",
       "Skin                          28\n",
       "Respiratory System            23\n",
       "Immunologic                   21\n",
       "Genitourinary/ Kidney         15\n",
       "Pediatrics                    14\n",
       "Chronic Pain                  12\n",
       "Morbid Obesity                11\n",
       "Blood Related                  9\n",
       "Foot                           8\n",
       "Ears, Nose, Throat             8\n",
       "Not Applicable                 8\n",
       "Genetic                        7\n",
       "Vision                         5\n",
       "Trauma/Injuries                5\n",
       "Dental                         5\n",
       "Post Surgical Complication     2\n",
       "Name: diagnosis_category, dtype: int64"
      ]
     },
     "execution_count": 73,
     "metadata": {},
     "output_type": "execute_result"
    }
   ],
   "source": [
    "# Choose a cutoff value and create a list of application types to be replaced (45)\n",
    "# use the variable name `diagnosis_types_to_replace`\n",
    "\n",
    "diagnosis_types_to_replace = diagnoses[diagnoses<45]\n",
    "diagnosis_types_to_replace"
   ]
  },
  {
   "cell_type": "code",
   "execution_count": 74,
   "metadata": {},
   "outputs": [
    {
     "data": {
      "text/plain": [
       "248"
      ]
     },
     "execution_count": 74,
     "metadata": {},
     "output_type": "execute_result"
    }
   ],
   "source": [
    "# Checking the number of values that will go into 'other' column\n",
    "diagnosis_types_to_replace = health_df['diagnosis_category'].isin(diagnosis_types_to_replace.index)\n",
    "diagnosis_types_to_replace.sum()"
   ]
  },
  {
   "cell_type": "code",
   "execution_count": 75,
   "metadata": {},
   "outputs": [
    {
     "data": {
      "text/plain": [
       "Other                                    248\n",
       "Infectious                               244\n",
       "Orthopedic/ Musculoskeletal              187\n",
       "Mental                                   154\n",
       "OB-Gyn/ Pregnancy                        108\n",
       "Prevention/Good Health                   105\n",
       "Cancer                                    86\n",
       "Central Nervous System/ Neuromuscular     70\n",
       "Cardiac/Circulatory                       57\n",
       "Digestive System/ Gastrointestinal        48\n",
       "Name: diagnosis_category, dtype: int64"
      ]
     },
     "execution_count": 75,
     "metadata": {},
     "output_type": "execute_result"
    }
   ],
   "source": [
    "# replace lower values of bin threshold with list comprehension \n",
    "health_df.loc[diagnosis_types_to_replace, 'diagnosis_category'] = 'Other'\n",
    "health_df['diagnosis_category'].value_counts()"
   ]
  },
  {
   "attachments": {},
   "cell_type": "markdown",
   "metadata": {},
   "source": [
    "# Fix 'diagnosis_sub_category' bin"
   ]
  },
  {
   "cell_type": "code",
   "execution_count": 76,
   "metadata": {},
   "outputs": [
    {
     "data": {
      "text/plain": [
       "Hepatitis                  233\n",
       "Other                      196\n",
       "Female Breast Disorder      47\n",
       "Back Pain                   43\n",
       "Breast Cancer               37\n",
       "                          ... \n",
       "Carpal Tunnel Syndrome       1\n",
       "Urinary Tract Infection      1\n",
       "Decay/ Cavities              1\n",
       "Viral Infection              1\n",
       "Paralysis                    1\n",
       "Name: diagnosis_sub_category, Length: 145, dtype: int64"
      ]
     },
     "execution_count": 76,
     "metadata": {},
     "output_type": "execute_result"
    }
   ],
   "source": [
    "health_df['diagnosis_sub_category'].value_counts()"
   ]
  },
  {
   "cell_type": "code",
   "execution_count": 77,
   "metadata": {},
   "outputs": [
    {
     "data": {
      "text/plain": [
       "[233,\n",
       " 196,\n",
       " 47,\n",
       " 43,\n",
       " 37,\n",
       " 29,\n",
       " 23,\n",
       " 22,\n",
       " 22,\n",
       " 21,\n",
       " 19,\n",
       " 19,\n",
       " 17,\n",
       " 16,\n",
       " 16,\n",
       " 15,\n",
       " 15,\n",
       " 13,\n",
       " 13,\n",
       " 12,\n",
       " 12,\n",
       " 11,\n",
       " 11,\n",
       " 11,\n",
       " 9,\n",
       " 9,\n",
       " 9,\n",
       " 8,\n",
       " 8,\n",
       " 7,\n",
       " 7,\n",
       " 7,\n",
       " 6,\n",
       " 6,\n",
       " 6,\n",
       " 6,\n",
       " 6,\n",
       " 6,\n",
       " 5,\n",
       " 5,\n",
       " 5,\n",
       " 5,\n",
       " 5,\n",
       " 5,\n",
       " 4,\n",
       " 4,\n",
       " 4,\n",
       " 4,\n",
       " 4,\n",
       " 4,\n",
       " 3,\n",
       " 3,\n",
       " 3,\n",
       " 3,\n",
       " 3,\n",
       " 3,\n",
       " 3,\n",
       " 3,\n",
       " 3,\n",
       " 3,\n",
       " 3,\n",
       " 3,\n",
       " 2,\n",
       " 2,\n",
       " 2,\n",
       " 2,\n",
       " 2,\n",
       " 2,\n",
       " 2,\n",
       " 2,\n",
       " 2,\n",
       " 2,\n",
       " 2,\n",
       " 2,\n",
       " 2,\n",
       " 2,\n",
       " 2,\n",
       " 2,\n",
       " 2,\n",
       " 2,\n",
       " 2,\n",
       " 2,\n",
       " 2,\n",
       " 2,\n",
       " 2,\n",
       " 2,\n",
       " 2,\n",
       " 1,\n",
       " 1,\n",
       " 1,\n",
       " 1,\n",
       " 1,\n",
       " 1,\n",
       " 1,\n",
       " 1,\n",
       " 1,\n",
       " 1,\n",
       " 1,\n",
       " 1,\n",
       " 1,\n",
       " 1,\n",
       " 1,\n",
       " 1,\n",
       " 1,\n",
       " 1,\n",
       " 1,\n",
       " 1,\n",
       " 1,\n",
       " 1,\n",
       " 1,\n",
       " 1,\n",
       " 1,\n",
       " 1,\n",
       " 1,\n",
       " 1,\n",
       " 1,\n",
       " 1,\n",
       " 1,\n",
       " 1,\n",
       " 1,\n",
       " 1,\n",
       " 1,\n",
       " 1,\n",
       " 1,\n",
       " 1,\n",
       " 1,\n",
       " 1,\n",
       " 1,\n",
       " 1,\n",
       " 1,\n",
       " 1,\n",
       " 1,\n",
       " 1,\n",
       " 1,\n",
       " 1,\n",
       " 1,\n",
       " 1,\n",
       " 1,\n",
       " 1,\n",
       " 1,\n",
       " 1,\n",
       " 1,\n",
       " 1,\n",
       " 1,\n",
       " 1]"
      ]
     },
     "execution_count": 77,
     "metadata": {},
     "output_type": "execute_result"
    }
   ],
   "source": [
    "# print a list of value counts to find a working threshold (20)\n",
    "list(health_df['diagnosis_sub_category'].value_counts())"
   ]
  },
  {
   "cell_type": "code",
   "execution_count": 78,
   "metadata": {},
   "outputs": [
    {
     "data": {
      "text/plain": [
       "Fracture                      19\n",
       "Substance Abuse/ Addiction    19\n",
       "Thyroid Problems              17\n",
       "Multiple Sclerosis            16\n",
       "Crohn's Disease               16\n",
       "                              ..\n",
       "Carpal Tunnel Syndrome         1\n",
       "Urinary Tract Infection        1\n",
       "Decay/ Cavities                1\n",
       "Viral Infection                1\n",
       "Paralysis                      1\n",
       "Name: diagnosis_sub_category, Length: 135, dtype: int64"
      ]
     },
     "execution_count": 78,
     "metadata": {},
     "output_type": "execute_result"
    }
   ],
   "source": [
    "# establish diagnosis_sub_cat as a list variable \n",
    "sub_diagnoses = health_df['diagnosis_sub_category'].value_counts()\n",
    "\n",
    "# use a filter reduce list of bins \n",
    "sub_diagnosis_types_to_replace = sub_diagnoses[sub_diagnoses<20]\n",
    "sub_diagnosis_types_to_replace"
   ]
  },
  {
   "cell_type": "code",
   "execution_count": 79,
   "metadata": {},
   "outputs": [
    {
     "data": {
      "text/plain": [
       "498"
      ]
     },
     "execution_count": 79,
     "metadata": {},
     "output_type": "execute_result"
    }
   ],
   "source": [
    "# Checking the number of values that will go into 'other' column\n",
    "sub_diagnosis_types_to_replace = health_df['diagnosis_sub_category'].isin(sub_diagnosis_types_to_replace.index)\n",
    "sub_diagnosis_types_to_replace.sum()"
   ]
  },
  {
   "cell_type": "code",
   "execution_count": 80,
   "metadata": {},
   "outputs": [
    {
     "data": {
      "text/plain": [
       "Other                     694\n",
       "Hepatitis                 233\n",
       "Female Breast Disorder     47\n",
       "Back Pain                  43\n",
       "Breast Cancer              37\n",
       "Autism-PDD-NOS             29\n",
       "Depression - Severe        23\n",
       "Eating Disorder            22\n",
       "Knee Problem               22\n",
       "Osteoarthritis             21\n",
       "Name: diagnosis_sub_category, dtype: int64"
      ]
     },
     "execution_count": 80,
     "metadata": {},
     "output_type": "execute_result"
    }
   ],
   "source": [
    "# replace lower values of bin threshold with list comprehension \n",
    "health_df.loc[sub_diagnosis_types_to_replace, 'diagnosis_sub_category'] = 'Other'\n",
    "health_df['diagnosis_sub_category'].value_counts()"
   ]
  },
  {
   "attachments": {},
   "cell_type": "markdown",
   "metadata": {},
   "source": [
    "# TO NOTE: \n",
    "First, this diagnosis sub categroy already has an 'Other' value, meaning that the values below our initial threshold were added an already existing category. Also, it's important to go back to the original DF, explore the data through visualizations (Tableau), and see if there are any immediate findings that we can tease out as it relates to emergency vs. frequency. "
   ]
  },
  {
   "attachments": {},
   "cell_type": "markdown",
   "metadata": {},
   "source": [
    "# Next: 'treatment_category'"
   ]
  },
  {
   "cell_type": "code",
   "execution_count": 81,
   "metadata": {},
   "outputs": [
    {
     "data": {
      "text/plain": [
       "Pharmacy/Prescription Drugs                                       421\n",
       "Diagnostic Imaging, Screening and Testing                         355\n",
       "Mental Health Treatment                                           122\n",
       "Durable Medical Equipment                                          53\n",
       "Orthopedic                                                         41\n",
       "Cancer Treatment                                                   30\n",
       "Autism Related Treatment                                           29\n",
       "Pain Management                                                    28\n",
       "General Surgery                                                    28\n",
       "Electrical/ Thermal/ Radiofreq. Interventions                      25\n",
       "Reconstructive/Plastic Surgery                                     24\n",
       "Special Procedure                                                  20\n",
       "Diagnostic/Physician Evaluation                                    16\n",
       "Rehabilitation Services - Skilled Nursing Facility - Inpatient     14\n",
       "Emergency/Urgent Care                                              13\n",
       "Rehabilitation Services - Outpatient                               13\n",
       "Acute Medical Services - Inpatient                                 12\n",
       "Cardio Vascular                                                    10\n",
       "Home Health Care                                                    9\n",
       "Ear, Nose and Throat Procedures                                     8\n",
       "Dental/Orthodontic                                                  7\n",
       "OB/GYN Procedures                                                   7\n",
       "Urology                                                             5\n",
       "Neurosugery                                                         4\n",
       "Alternative Treatment                                               3\n",
       "Not Applicable                                                      2\n",
       "Vision                                                              2\n",
       "Chiropractic                                                        2\n",
       "Ophthalmology                                                       2\n",
       "Preventive Health Screening                                         1\n",
       "Name: treatment_category, dtype: int64"
      ]
     },
     "execution_count": 81,
     "metadata": {},
     "output_type": "execute_result"
    }
   ],
   "source": [
    "# Looking at this list, it seems important to perhaps come back and test the model without binning, \n",
    "# becuase there are list items that seem infrequent but important; or, at lest increase from 10 to 15-18 etc. \n",
    "health_df['treatment_category'].value_counts()"
   ]
  },
  {
   "cell_type": "code",
   "execution_count": 82,
   "metadata": {},
   "outputs": [
    {
     "data": {
      "text/plain": [
       "Home Health Care                   9\n",
       "Ear, Nose and Throat Procedures    8\n",
       "Dental/Orthodontic                 7\n",
       "OB/GYN Procedures                  7\n",
       "Urology                            5\n",
       "Neurosugery                        4\n",
       "Alternative Treatment              3\n",
       "Not Applicable                     2\n",
       "Vision                             2\n",
       "Chiropractic                       2\n",
       "Ophthalmology                      2\n",
       "Preventive Health Screening        1\n",
       "Name: treatment_category, dtype: int64"
      ]
     },
     "execution_count": 82,
     "metadata": {},
     "output_type": "execute_result"
    }
   ],
   "source": [
    "# establish treatment category as a list variable \n",
    "treatments = health_df['treatment_category'].value_counts()\n",
    "\n",
    "# use a filter reduce list of bins \n",
    "treatment_types_to_replace = treatments[treatments<10]\n",
    "treatment_types_to_replace"
   ]
  },
  {
   "cell_type": "code",
   "execution_count": 83,
   "metadata": {},
   "outputs": [
    {
     "data": {
      "text/plain": [
       "52"
      ]
     },
     "execution_count": 83,
     "metadata": {},
     "output_type": "execute_result"
    }
   ],
   "source": [
    "# Checking the number of values that will go into 'other' column\n",
    "treatment_types_to_replace = health_df['treatment_category'].isin(treatment_types_to_replace.index)\n",
    "treatment_types_to_replace.sum()"
   ]
  },
  {
   "cell_type": "code",
   "execution_count": 84,
   "metadata": {},
   "outputs": [
    {
     "data": {
      "text/plain": [
       "Pharmacy/Prescription Drugs                                       421\n",
       "Diagnostic Imaging, Screening and Testing                         355\n",
       "Mental Health Treatment                                           122\n",
       "Durable Medical Equipment                                          53\n",
       "Other                                                              52\n",
       "Orthopedic                                                         41\n",
       "Cancer Treatment                                                   30\n",
       "Autism Related Treatment                                           29\n",
       "General Surgery                                                    28\n",
       "Pain Management                                                    28\n",
       "Electrical/ Thermal/ Radiofreq. Interventions                      25\n",
       "Reconstructive/Plastic Surgery                                     24\n",
       "Special Procedure                                                  20\n",
       "Diagnostic/Physician Evaluation                                    16\n",
       "Rehabilitation Services - Skilled Nursing Facility - Inpatient     14\n",
       "Emergency/Urgent Care                                              13\n",
       "Rehabilitation Services - Outpatient                               13\n",
       "Acute Medical Services - Inpatient                                 12\n",
       "Cardio Vascular                                                    10\n",
       "Name: treatment_category, dtype: int64"
      ]
     },
     "execution_count": 84,
     "metadata": {},
     "output_type": "execute_result"
    }
   ],
   "source": [
    "# replace lower values of bin threshold with list comprehension \n",
    "health_df.loc[treatment_types_to_replace, 'treatment_category'] = 'Other'\n",
    "health_df['treatment_category'].value_counts()"
   ]
  },
  {
   "attachments": {},
   "cell_type": "markdown",
   "metadata": {},
   "source": [
    "# Fit 'treatment_sub_category'"
   ]
  },
  {
   "cell_type": "code",
   "execution_count": 85,
   "metadata": {},
   "outputs": [
    {
     "data": {
      "text/plain": [
       "[237,\n",
       " 233,\n",
       " 171,\n",
       " 83,\n",
       " 47,\n",
       " 30,\n",
       " 23,\n",
       " 22,\n",
       " 19,\n",
       " 18,\n",
       " 16,\n",
       " 15,\n",
       " 15,\n",
       " 14,\n",
       " 14,\n",
       " 12,\n",
       " 11,\n",
       " 10,\n",
       " 10,\n",
       " 10,\n",
       " 10,\n",
       " 9,\n",
       " 9,\n",
       " 9,\n",
       " 8,\n",
       " 8,\n",
       " 7,\n",
       " 7,\n",
       " 7,\n",
       " 7,\n",
       " 7,\n",
       " 7,\n",
       " 7,\n",
       " 6,\n",
       " 6,\n",
       " 5,\n",
       " 5,\n",
       " 5,\n",
       " 5,\n",
       " 5,\n",
       " 4,\n",
       " 4,\n",
       " 4,\n",
       " 4,\n",
       " 3,\n",
       " 3,\n",
       " 3,\n",
       " 3,\n",
       " 3,\n",
       " 3,\n",
       " 3,\n",
       " 3,\n",
       " 3,\n",
       " 3,\n",
       " 3,\n",
       " 3,\n",
       " 3,\n",
       " 3,\n",
       " 3,\n",
       " 3,\n",
       " 3,\n",
       " 3,\n",
       " 2,\n",
       " 2,\n",
       " 2,\n",
       " 2,\n",
       " 2,\n",
       " 2,\n",
       " 2,\n",
       " 2,\n",
       " 2,\n",
       " 2,\n",
       " 2,\n",
       " 2,\n",
       " 2,\n",
       " 2,\n",
       " 2,\n",
       " 2,\n",
       " 2,\n",
       " 2,\n",
       " 2,\n",
       " 2,\n",
       " 2,\n",
       " 1,\n",
       " 1,\n",
       " 1,\n",
       " 1,\n",
       " 1,\n",
       " 1,\n",
       " 1,\n",
       " 1,\n",
       " 1,\n",
       " 1,\n",
       " 1,\n",
       " 1,\n",
       " 1,\n",
       " 1,\n",
       " 1,\n",
       " 1,\n",
       " 1,\n",
       " 1,\n",
       " 1,\n",
       " 1,\n",
       " 1,\n",
       " 1,\n",
       " 1,\n",
       " 1,\n",
       " 1,\n",
       " 1,\n",
       " 1,\n",
       " 1,\n",
       " 1,\n",
       " 1,\n",
       " 1,\n",
       " 1,\n",
       " 1,\n",
       " 1,\n",
       " 1,\n",
       " 1,\n",
       " 1]"
      ]
     },
     "execution_count": 85,
     "metadata": {},
     "output_type": "execute_result"
    }
   ],
   "source": [
    "# print value counts to see threshold (19)\n",
    "list(health_df['treatment_sub_category'].value_counts())\n",
    "# health_df['treatment_sub_category'].value_counts()"
   ]
  },
  {
   "cell_type": "code",
   "execution_count": 86,
   "metadata": {},
   "outputs": [
    {
     "data": {
      "text/plain": [
       "Partial Hospitalization                            18\n",
       "X-Ray                                              16\n",
       "Hormones                                           15\n",
       "ABA-Applied Behavioral Analysis                    15\n",
       "Skin Treatment                                     14\n",
       "                                                   ..\n",
       "Eye Test                                            1\n",
       "Compression Garments                                1\n",
       "EECP-Enhanced External Counter Pulsation Device     1\n",
       "Psychotherapy                                       1\n",
       "Medical/Surgical Unit                               1\n",
       "Name: treatment_sub_category, Length: 111, dtype: int64"
      ]
     },
     "execution_count": 86,
     "metadata": {},
     "output_type": "execute_result"
    }
   ],
   "source": [
    "# establish treatment_sub_cat as a list variable \n",
    "sub_treatments = health_df['treatment_sub_category'].value_counts()\n",
    "\n",
    "# use a filter reduce list of bins \n",
    "sub_treatment_types_to_replace = sub_treatments[sub_treatments<=18]\n",
    "sub_treatment_types_to_replace"
   ]
  },
  {
   "cell_type": "code",
   "execution_count": 87,
   "metadata": {},
   "outputs": [
    {
     "data": {
      "text/plain": [
       "433"
      ]
     },
     "execution_count": 87,
     "metadata": {},
     "output_type": "execute_result"
    }
   ],
   "source": [
    "# Checking the number of values that will go into 'other' column\n",
    "# This number is a little large; it may be worth \n",
    "sub_treatment_types_to_replace = health_df['treatment_sub_category'].isin(sub_treatment_types_to_replace.index)\n",
    "sub_treatment_types_to_replace.sum()"
   ]
  },
  {
   "cell_type": "code",
   "execution_count": 88,
   "metadata": {},
   "outputs": [
    {
     "data": {
      "text/plain": [
       "Other                                       670\n",
       "Anti-virals                                 233\n",
       "Mammography                                 171\n",
       "Lab Work                                     83\n",
       "Residential Treatment Center - Admission     47\n",
       "Acute Psychiatric Facility Admission         30\n",
       "MRI                                          23\n",
       "Analgesics                                   22\n",
       "Arthritis Medications                        19\n",
       "Name: treatment_sub_category, dtype: int64"
      ]
     },
     "execution_count": 88,
     "metadata": {},
     "output_type": "execute_result"
    }
   ],
   "source": [
    "# replace lower values of bin threshold with list comprehension \n",
    "health_df.loc[sub_treatment_types_to_replace, 'treatment_sub_category'] = 'Other'\n",
    "health_df['treatment_sub_category'].value_counts()"
   ]
  },
  {
   "cell_type": "code",
   "execution_count": null,
   "metadata": {},
   "outputs": [],
   "source": []
  },
  {
   "cell_type": "code",
   "execution_count": 17,
   "metadata": {},
   "outputs": [
    {
     "data": {
      "text/plain": [
       "Medical Necessity               821\n",
       "Experimental/Investigational    468\n",
       "Urgent Care                      18\n",
       "Name: type, dtype: int64"
      ]
     },
     "execution_count": 17,
     "metadata": {},
     "output_type": "execute_result"
    }
   ],
   "source": [
    "health_df['type'].value_counts()"
   ]
  },
  {
   "attachments": {},
   "cell_type": "markdown",
   "metadata": {},
   "source": [
    "...To Be continued on colab ipynb"
   ]
  },
  {
   "cell_type": "markdown",
   "metadata": {},
   "source": []
  }
 ],
 "metadata": {
  "kernelspec": {
   "display_name": "PythonData",
   "language": "python",
   "name": "python3"
  },
  "language_info": {
   "codemirror_mode": {
    "name": "ipython",
    "version": 3
   },
   "file_extension": ".py",
   "mimetype": "text/x-python",
   "name": "python",
   "nbconvert_exporter": "python",
   "pygments_lexer": "ipython3",
   "version": "3.7.7"
  },
  "orig_nbformat": 4
 },
 "nbformat": 4,
 "nbformat_minor": 2
}
